{
 "cells": [
  {
   "cell_type": "code",
   "execution_count": 104,
   "metadata": {},
   "outputs": [
    {
     "name": "stdout",
     "output_type": "stream",
     "text": [
      "The autoreload extension is already loaded. To reload it, use:\n",
      "  %reload_ext autoreload\n"
     ]
    }
   ],
   "source": [
    "%load_ext autoreload\n",
    "%autoreload 2"
   ]
  },
  {
   "cell_type": "markdown",
   "metadata": {},
   "source": [
    "# Setup"
   ]
  },
  {
   "cell_type": "code",
   "execution_count": 105,
   "metadata": {},
   "outputs": [],
   "source": [
    "import numpy as np\n",
    "import pandas as pd\n",
    "import tensorflow as tf\n",
    "from tensorflow import keras\n",
    "import matplotlib.pyplot as plt\n",
    "\n",
    "from deepexperiment.utils import one_hot_encoding, one_hot_encoding_batch, ResBlock, get_indices\n",
    "from deepexperiment.interpret import DeepShap"
   ]
  },
  {
   "cell_type": "markdown",
   "metadata": {},
   "source": [
    "# Loading model and data"
   ]
  },
  {
   "cell_type": "code",
   "execution_count": 106,
   "metadata": {},
   "outputs": [],
   "source": [
    "model = keras.models.load_model(\"../models/resnet_small_committee.h5\")"
   ]
  },
  {
   "cell_type": "code",
   "execution_count": 107,
   "metadata": {},
   "outputs": [
    {
     "name": "stdout",
     "output_type": "stream",
     "text": [
      "18513\n"
     ]
    }
   ],
   "source": [
    "samples = pd.read_csv('../data/positive_set_extended.csv')\n",
    "print(len(samples))"
   ]
  },
  {
   "cell_type": "code",
   "execution_count": 108,
   "metadata": {},
   "outputs": [],
   "source": [
    "data, _ = one_hot_encoding_batch(samples)"
   ]
  },
  {
   "cell_type": "markdown",
   "metadata": {},
   "source": [
    "# DeepSHAP"
   ]
  },
  {
   "cell_type": "code",
   "execution_count": 111,
   "metadata": {},
   "outputs": [
    {
     "name": "stdout",
     "output_type": "stream",
     "text": [
      "../data/positive_set_shaps_0.npy file exists.\n",
      "../data/positive_set_shaps_1.npy file exists.\n",
      "../data/positive_set_shaps_2.npy file exists.\n",
      "../data/positive_set_shaps_3.npy file exists.\n",
      "../data/positive_set_shaps_4.npy file exists.\n",
      "../data/positive_set_shaps_5.npy file exists.\n",
      "../data/positive_set_shaps_6.npy file exists.\n",
      "../data/positive_set_shaps_7.npy file exists.\n",
      "../data/positive_set_shaps_8.npy file exists.\n",
      "../data/positive_set_shaps_9.npy file exists.\n",
      "../data/positive_set_shaps_10.npy file exists.\n",
      "../data/positive_set_shaps_11.npy file exists.\n",
      "../data/positive_set_shaps_12.npy file exists.\n",
      "../data/positive_set_shaps_13.npy file exists.\n",
      "../data/positive_set_shaps_14.npy file exists.\n",
      "../data/positive_set_shaps_15.npy file exists.\n",
      "../data/positive_set_shaps_16.npy file exists.\n",
      "../data/positive_set_shaps_17.npy file exists.\n",
      "../data/positive_set_shaps_18.npy file exists.\n"
     ]
    }
   ],
   "source": [
    "rand_samples = samples.sample(n=100, replace=False, random_state=42).reset_index(drop=True)\n",
    "background, _ = one_hot_encoding_batch(rand_samples)\n",
    "shaps = []\n",
    "\n",
    "for i in range((len(data) // 1000) + 1):\n",
    "    filename = f'../data/positive_set_shaps_{i}.npy'\n",
    "    try:\n",
    "        shap = np.load(filename)\n",
    "        shaps.extend(shap)\n",
    "        print(f'{filename} file exists.')\n",
    "    except:\n",
    "        print(f'{filename} file not found.')\n",
    "        deepShap = DeepShap(model, background)\n",
    "        data_sample = data[i*1000:(i+1)*1000]\n",
    "        attribution = deepShap(data_sample)\n",
    "        pos_shaps = attribution[1][:,:,:,0]\n",
    "        shap = np.array(pos_shaps)\n",
    "        shaps.extend(shap)\n",
    "        np.save(filename, shaps)"
   ]
  }
 ],
 "metadata": {
  "kernelspec": {
   "display_name": "Python 3.8.9 ('venv': venv)",
   "language": "python",
   "name": "python3"
  },
  "language_info": {
   "codemirror_mode": {
    "name": "ipython",
    "version": 3
   },
   "file_extension": ".py",
   "mimetype": "text/x-python",
   "name": "python",
   "nbconvert_exporter": "python",
   "pygments_lexer": "ipython3",
   "version": "3.8.9"
  },
  "orig_nbformat": 4,
  "vscode": {
   "interpreter": {
    "hash": "ff48b08579d76e0f3e033ef398d6702997c92dfa13bdbcd08d1d5260b896ab46"
   }
  }
 },
 "nbformat": 4,
 "nbformat_minor": 2
}
