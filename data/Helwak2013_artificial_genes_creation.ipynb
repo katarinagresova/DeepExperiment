{
 "cells": [
  {
   "cell_type": "code",
   "execution_count": 1,
   "metadata": {},
   "outputs": [],
   "source": [
    "%load_ext autoreload\n",
    "%autoreload 2"
   ]
  },
  {
   "cell_type": "markdown",
   "metadata": {},
   "source": [
    "# Introduction\n",
    "\n",
    "The goal of this notebook is to create of the artificial genes dataset. This notebook can be used as a documentation and the results are fully reproducible (including setting the seed when generating random numbers).\n",
    "\n",
    "Artificial genes dataset is save in a file named `artificial_genes.csv` in the `data` folder. The file has three columns: `miRNA`, `gene` and `label`. The `miRNA` column contains the sequence of miRNA that has positive and negative target sites in the corresponding artificial gene. The `gene` column contains the sequence of the artificial gene. The `label` column contains the label for each position in the gene. The label is 1 for the position, if the miRNA has a positive target site in the corresponding position in the gene, otherwise the label is 0."
   ]
  },
  {
   "cell_type": "markdown",
   "metadata": {},
   "source": [
    "# Setup"
   ]
  },
  {
   "cell_type": "code",
   "execution_count": 2,
   "metadata": {},
   "outputs": [
    {
     "name": "stderr",
     "output_type": "stream",
     "text": [
      "2022-11-09 11:50:31.937598: I tensorflow/core/platform/cpu_feature_guard.cc:193] This TensorFlow binary is optimized with oneAPI Deep Neural Network Library (oneDNN) to use the following CPU instructions in performance-critical operations:  AVX2 FMA\n",
      "To enable them in other operations, rebuild TensorFlow with the appropriate compiler flags.\n",
      "/Users/katarina/Documents/repositories/GitHub/DeepExperiment/venv/lib/python3.8/site-packages/tqdm/auto.py:22: TqdmWarning: IProgress not found. Please update jupyter and ipywidgets. See https://ipywidgets.readthedocs.io/en/stable/user_install.html\n",
      "  from .autonotebook import tqdm as notebook_tqdm\n"
     ]
    }
   ],
   "source": [
    "import numpy as np\n",
    "import pandas as pd\n",
    "import tensorflow as tf\n",
    "from tensorflow import keras\n",
    "import matplotlib.pyplot as plt\n",
    "import random\n",
    "\n",
    "from deepexperiment.utils import one_hot_encoding, one_hot_encoding_batch, ResBlock, get_indices\n",
    "from deepexperiment.interpret import DeepShap\n",
    "from deepexperiment.alignment import Attrament\n",
    "from deepexperiment.visualization import plot_alignment, plotbar_miRNA_importance"
   ]
  },
  {
   "cell_type": "code",
   "execution_count": 3,
   "metadata": {},
   "outputs": [],
   "source": [
    "random.seed(42)"
   ]
  },
  {
   "cell_type": "markdown",
   "metadata": {},
   "source": [
    "# Loading model and data\n",
    "\n",
    "Used model is the `miRBind` [[1]](https://github.com/ML-Bioinfo-CEITEC/miRBind) model trained on the `Helwak et al., 2013` [[2]](https://doi.org/10.1016/j.cell.2013.03.043) dataset. Used dataset is a test dataset from the `miRBind` [[1]](https://github.com/ML-Bioinfo-CEITEC/miRBind) and is constructed from the `Helwak et al., 2013` [[2]](https://doi.org/10.1016/j.cell.2013.03.043) dataset."
   ]
  },
  {
   "cell_type": "code",
   "execution_count": 4,
   "metadata": {},
   "outputs": [
    {
     "name": "stderr",
     "output_type": "stream",
     "text": [
      "2022-11-09 11:50:48.844653: I tensorflow/core/platform/cpu_feature_guard.cc:193] This TensorFlow binary is optimized with oneAPI Deep Neural Network Library (oneDNN) to use the following CPU instructions in performance-critical operations:  AVX2 FMA\n",
      "To enable them in other operations, rebuild TensorFlow with the appropriate compiler flags.\n"
     ]
    }
   ],
   "source": [
    "model = keras.models.load_model(\"../models/miRBind.h5\")"
   ]
  },
  {
   "cell_type": "code",
   "execution_count": 5,
   "metadata": {},
   "outputs": [],
   "source": [
    "samples = pd.read_csv('../data/test_set_1_1_CLASH2013_paper.tsv', sep='\\t')\n",
    "pos_samples = samples[samples['label'] == 1].reset_index(drop=True)\n",
    "neg_samples = samples[samples['label'] == 0].reset_index(drop=True)"
   ]
  },
  {
   "cell_type": "markdown",
   "metadata": {},
   "source": [
    "# Creating artificial genes"
   ]
  },
  {
   "cell_type": "code",
   "execution_count": 21,
   "metadata": {},
   "outputs": [],
   "source": [
    "def stitch_gene(pos_samples, neg_samples, miRNA, pos_count):\n",
    "    pos = pos_samples[pos_samples['miRNA'] == miRNA]\n",
    "    neg = neg_samples[neg_samples['miRNA'] == miRNA]\n",
    "\n",
    "    count = 0\n",
    "    gene = \"\"\n",
    "    gene_mask = \"\"\n",
    "    while count < pos_count:\n",
    "      if random.random() < 0.7:\n",
    "        samples = neg\n",
    "        mask = \"0\"\n",
    "      else:\n",
    "        samples = pos\n",
    "        mask = \"1\"\n",
    "        count += 1\n",
    "\n",
    "      index = random.randint(0, len(samples['gene']) - 1)\n",
    "      gene += samples['gene'].iloc[index]\n",
    "      gene_mask = gene_mask + mask*len(samples['gene'].iloc[index])\n",
    "\n",
    "    return gene, gene_mask"
   ]
  },
  {
   "cell_type": "code",
   "execution_count": 25,
   "metadata": {},
   "outputs": [],
   "source": [
    "dataset = []\n",
    "for miRNA in pos_samples['miRNA'].value_counts().index:\n",
    "    if miRNA in neg_samples['miRNA'].value_counts().index:\n",
    "        for pos_count in [2, 3, 4, 5, 6]:\n",
    "            gene, gene_mask = stitch_gene(pos_samples, neg_samples, miRNA, pos_count)\n",
    "            dataset.append([miRNA, gene, gene_mask])"
   ]
  },
  {
   "cell_type": "code",
   "execution_count": 26,
   "metadata": {},
   "outputs": [
    {
     "data": {
      "text/html": [
       "<div>\n",
       "<style scoped>\n",
       "    .dataframe tbody tr th:only-of-type {\n",
       "        vertical-align: middle;\n",
       "    }\n",
       "\n",
       "    .dataframe tbody tr th {\n",
       "        vertical-align: top;\n",
       "    }\n",
       "\n",
       "    .dataframe thead th {\n",
       "        text-align: right;\n",
       "    }\n",
       "</style>\n",
       "<table border=\"1\" class=\"dataframe\">\n",
       "  <thead>\n",
       "    <tr style=\"text-align: right;\">\n",
       "      <th></th>\n",
       "      <th>miRNA</th>\n",
       "      <th>gene</th>\n",
       "      <th>label</th>\n",
       "    </tr>\n",
       "  </thead>\n",
       "  <tbody>\n",
       "    <tr>\n",
       "      <th>0</th>\n",
       "      <td>TCCGAGCCTGGGTCTCCCTC</td>\n",
       "      <td>GTAAAGTGACTGAGCTGGAAGACAAGTTTGATTTACTAGTTGATGC...</td>\n",
       "      <td>0000000000000000000000000000000000000000000000...</td>\n",
       "    </tr>\n",
       "    <tr>\n",
       "      <th>1</th>\n",
       "      <td>TCCGAGCCTGGGTCTCCCTC</td>\n",
       "      <td>CATCGACAGCACACCGTACCGACAGTGGTACGAGTCCCACTATGCG...</td>\n",
       "      <td>0000000000000000000000000000000000000000000000...</td>\n",
       "    </tr>\n",
       "    <tr>\n",
       "      <th>2</th>\n",
       "      <td>TCCGAGCCTGGGTCTCCCTC</td>\n",
       "      <td>CAGGAGAGCACCCCTCCACCCCATTTGCTCGCAGTATCCTAGAATC...</td>\n",
       "      <td>0000000000000000000000000000000000000000000000...</td>\n",
       "    </tr>\n",
       "    <tr>\n",
       "      <th>3</th>\n",
       "      <td>TCCGAGCCTGGGTCTCCCTC</td>\n",
       "      <td>CAGGAGAGCACCCCTCCACCCCATTTGCTCGCAGTATCCTAGAATC...</td>\n",
       "      <td>0000000000000000000000000000000000000000000000...</td>\n",
       "    </tr>\n",
       "    <tr>\n",
       "      <th>4</th>\n",
       "      <td>TCCGAGCCTGGGTCTCCCTC</td>\n",
       "      <td>AGGGGACCCAAGTAACAGGGAGGAAAGCAGATGTTATTAAGGCAGC...</td>\n",
       "      <td>1111111111111111111111111111111111111111111111...</td>\n",
       "    </tr>\n",
       "    <tr>\n",
       "      <th>...</th>\n",
       "      <td>...</td>\n",
       "      <td>...</td>\n",
       "      <td>...</td>\n",
       "    </tr>\n",
       "    <tr>\n",
       "      <th>1040</th>\n",
       "      <td>CCAATATTACTGTGCTGCTT</td>\n",
       "      <td>TTGAAGAGTTGGAATTCTCGGCATTTAAATGATGCCTGAAGTTTGT...</td>\n",
       "      <td>0000000000000000000000000000000000000000000000...</td>\n",
       "    </tr>\n",
       "    <tr>\n",
       "      <th>1041</th>\n",
       "      <td>CCAATATTACTGTGCTGCTT</td>\n",
       "      <td>GTCGTCATGGGAGACCCTGTGCTCCTCCGCTCTGTGAGCTCGGACA...</td>\n",
       "      <td>0000000000000000000000000000000000000000000000...</td>\n",
       "    </tr>\n",
       "    <tr>\n",
       "      <th>1042</th>\n",
       "      <td>CCAATATTACTGTGCTGCTT</td>\n",
       "      <td>GTCGTCATGGGAGACCCTGTGCTCCTCCGCTCTGTGAGCTCGGACA...</td>\n",
       "      <td>0000000000000000000000000000000000000000000000...</td>\n",
       "    </tr>\n",
       "    <tr>\n",
       "      <th>1043</th>\n",
       "      <td>CCAATATTACTGTGCTGCTT</td>\n",
       "      <td>GGAGATCCTGGTGGGCGATGTGGGCCAGACTGTCGACGACCCCTAC...</td>\n",
       "      <td>0000000000000000000000000000000000000000000000...</td>\n",
       "    </tr>\n",
       "    <tr>\n",
       "      <th>1044</th>\n",
       "      <td>CCAATATTACTGTGCTGCTT</td>\n",
       "      <td>AGGGGGTGTCAACGAGCTGGCAAACTATGGGGAGTACTCAGGCGCC...</td>\n",
       "      <td>0000000000000000000000000000000000000000000000...</td>\n",
       "    </tr>\n",
       "  </tbody>\n",
       "</table>\n",
       "<p>1045 rows × 3 columns</p>\n",
       "</div>"
      ],
      "text/plain": [
       "                     miRNA                                               gene  \\\n",
       "0     TCCGAGCCTGGGTCTCCCTC  GTAAAGTGACTGAGCTGGAAGACAAGTTTGATTTACTAGTTGATGC...   \n",
       "1     TCCGAGCCTGGGTCTCCCTC  CATCGACAGCACACCGTACCGACAGTGGTACGAGTCCCACTATGCG...   \n",
       "2     TCCGAGCCTGGGTCTCCCTC  CAGGAGAGCACCCCTCCACCCCATTTGCTCGCAGTATCCTAGAATC...   \n",
       "3     TCCGAGCCTGGGTCTCCCTC  CAGGAGAGCACCCCTCCACCCCATTTGCTCGCAGTATCCTAGAATC...   \n",
       "4     TCCGAGCCTGGGTCTCCCTC  AGGGGACCCAAGTAACAGGGAGGAAAGCAGATGTTATTAAGGCAGC...   \n",
       "...                    ...                                                ...   \n",
       "1040  CCAATATTACTGTGCTGCTT  TTGAAGAGTTGGAATTCTCGGCATTTAAATGATGCCTGAAGTTTGT...   \n",
       "1041  CCAATATTACTGTGCTGCTT  GTCGTCATGGGAGACCCTGTGCTCCTCCGCTCTGTGAGCTCGGACA...   \n",
       "1042  CCAATATTACTGTGCTGCTT  GTCGTCATGGGAGACCCTGTGCTCCTCCGCTCTGTGAGCTCGGACA...   \n",
       "1043  CCAATATTACTGTGCTGCTT  GGAGATCCTGGTGGGCGATGTGGGCCAGACTGTCGACGACCCCTAC...   \n",
       "1044  CCAATATTACTGTGCTGCTT  AGGGGGTGTCAACGAGCTGGCAAACTATGGGGAGTACTCAGGCGCC...   \n",
       "\n",
       "                                                  label  \n",
       "0     0000000000000000000000000000000000000000000000...  \n",
       "1     0000000000000000000000000000000000000000000000...  \n",
       "2     0000000000000000000000000000000000000000000000...  \n",
       "3     0000000000000000000000000000000000000000000000...  \n",
       "4     1111111111111111111111111111111111111111111111...  \n",
       "...                                                 ...  \n",
       "1040  0000000000000000000000000000000000000000000000...  \n",
       "1041  0000000000000000000000000000000000000000000000...  \n",
       "1042  0000000000000000000000000000000000000000000000...  \n",
       "1043  0000000000000000000000000000000000000000000000...  \n",
       "1044  0000000000000000000000000000000000000000000000...  \n",
       "\n",
       "[1045 rows x 3 columns]"
      ]
     },
     "execution_count": 26,
     "metadata": {},
     "output_type": "execute_result"
    }
   ],
   "source": [
    "df = pd.DataFrame(dataset, columns=['miRNA', 'gene', 'label'])\n",
    "df"
   ]
  },
  {
   "cell_type": "code",
   "execution_count": null,
   "metadata": {},
   "outputs": [],
   "source": [
    "df.to_csv('../data/artificial_genes.csv', index=False)"
   ]
  }
 ],
 "metadata": {
  "kernelspec": {
   "display_name": "Python 3.8.9 ('venv': venv)",
   "language": "python",
   "name": "python3"
  },
  "language_info": {
   "codemirror_mode": {
    "name": "ipython",
    "version": 3
   },
   "file_extension": ".py",
   "mimetype": "text/x-python",
   "name": "python",
   "nbconvert_exporter": "python",
   "pygments_lexer": "ipython3",
   "version": "3.8.9"
  },
  "orig_nbformat": 4,
  "vscode": {
   "interpreter": {
    "hash": "ff48b08579d76e0f3e033ef398d6702997c92dfa13bdbcd08d1d5260b896ab46"
   }
  }
 },
 "nbformat": 4,
 "nbformat_minor": 2
}
